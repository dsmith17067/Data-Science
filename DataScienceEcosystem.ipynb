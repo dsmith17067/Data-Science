{
 "cells": [
  {
   "cell_type": "markdown",
   "id": "71efb5cb-b7ea-4311-92fa-45650f22263b",
   "metadata": {},
   "source": [
    "# Data Science Tools and Ecosystem"
   ]
  },
  {
   "cell_type": "markdown",
   "id": "5a3da812-1fc1-4f31-b9af-4fe4d77d0ac4",
   "metadata": {
    "tags": []
   },
   "source": [
    "## In this notebook, Data Science Tools and Ecosystems are summarized"
   ]
  },
  {
   "cell_type": "markdown",
   "id": "4392b8ed-2494-4b48-b668-1143823338a3",
   "metadata": {},
   "source": [
    "**Objectives:**\n",
    "- Popular languages used; Python and SQl\n",
    "- Popular libraries used; matplotlib and Numpy\n",
    "- Commonly used arithmetic expressions\n",
    "- Popular Data Science Tools; Jupyter notebook and RStudio\n",
    "\n"
   ]
  },
  {
   "cell_type": "markdown",
   "id": "6ddc01ce-11cc-4054-a067-4015639cdc98",
   "metadata": {},
   "source": [
    "## <center> **Author:**\n",
    "<center> David Smith"
   ]
  },
  {
   "cell_type": "markdown",
   "id": "04220521-31d3-4daa-93d0-2661ffc35857",
   "metadata": {},
   "source": [
    "### Some commonly used libraries for Data Scientists include:\n",
    "1. Panda\n",
    "2. Numpy\n",
    "3. Matplotlib\n"
   ]
  },
  {
   "cell_type": "markdown",
   "id": "b93732d2-3141-4e0c-81b3-419a7e13e2e1",
   "metadata": {
    "tags": []
   },
   "source": [
    "### Some of the popular languages Data Scientist use are:\n",
    "1. Python\n",
    "2. SQl\n",
    "3. Scala\n",
    "4. Java\n",
    "5. C++"
   ]
  },
  {
   "cell_type": "markdown",
   "id": "0158cc61-12be-4cf7-bb15-5afab85214ba",
   "metadata": {},
   "source": [
    "|Data Science Tools|\n",
    "|------------------|\n",
    "|Jupyter notebook  |\n",
    "|Apache Zeppelin   |\n",
    "|R Studio          |"
   ]
  },
  {
   "cell_type": "code",
   "execution_count": 12,
   "id": "3722ba21-5891-4945-9c11-b0bd575cf526",
   "metadata": {
    "tags": []
   },
   "outputs": [
    {
     "data": {
      "text/plain": [
       "17"
      ]
     },
     "execution_count": 12,
     "metadata": {},
     "output_type": "execute_result"
    }
   ],
   "source": [
    "# this is a simple arithemetic expression of multipling and added integers:\n",
    "(3*4)+5"
   ]
  },
  {
   "cell_type": "code",
   "execution_count": 13,
   "id": "d2b99b70-d3a0-41e5-ba8c-99e4fdf5cf8b",
   "metadata": {
    "tags": []
   },
   "outputs": [
    {
     "data": {
      "text/plain": [
       "'03:20'"
      ]
     },
     "execution_count": 13,
     "metadata": {},
     "output_type": "execute_result"
    }
   ],
   "source": [
    "# This will convert 200 minutes intpo hours:\n",
    "minutes=200\n",
    "'{:02d}:{:02d}'.format(*divmod(minutes,60))"
   ]
  },
  {
   "cell_type": "code",
   "execution_count": null,
   "id": "9bfa56bd-29b6-41c1-97a8-cb9d7798d88d",
   "metadata": {},
   "outputs": [],
   "source": []
  }
 ],
 "metadata": {
  "kernelspec": {
   "display_name": "Python",
   "language": "python",
   "name": "conda-env-python-py"
  },
  "language_info": {
   "codemirror_mode": {
    "name": "ipython",
    "version": 3
   },
   "file_extension": ".py",
   "mimetype": "text/x-python",
   "name": "python",
   "nbconvert_exporter": "python",
   "pygments_lexer": "ipython3",
   "version": "3.7.12"
  }
 },
 "nbformat": 4,
 "nbformat_minor": 5
}
